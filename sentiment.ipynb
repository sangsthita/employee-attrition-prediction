{
 "cells": [
  {
   "cell_type": "markdown",
   "id": "4f5232df",
   "metadata": {},
   "source": [
    "# =========================\n",
    "# Notebook 3: Sentiment Analysis (Synthetic)\n",
    "# =========================\n"
   ]
  },
  {
   "cell_type": "code",
   "execution_count": 1,
   "id": "835c09c0",
   "metadata": {},
   "outputs": [],
   "source": [
    "# Step 1: Import libraries\n",
    "import pandas as pd\n",
    "import seaborn as sns\n",
    "import matplotlib.pyplot as plt"
   ]
  },
  {
   "cell_type": "code",
   "execution_count": 2,
   "id": "23c1c3b8",
   "metadata": {},
   "outputs": [
    {
     "data": {
      "text/html": [
       "<div>\n",
       "<style scoped>\n",
       "    .dataframe tbody tr th:only-of-type {\n",
       "        vertical-align: middle;\n",
       "    }\n",
       "\n",
       "    .dataframe tbody tr th {\n",
       "        vertical-align: top;\n",
       "    }\n",
       "\n",
       "    .dataframe thead th {\n",
       "        text-align: right;\n",
       "    }\n",
       "</style>\n",
       "<table border=\"1\" class=\"dataframe\">\n",
       "  <thead>\n",
       "    <tr style=\"text-align: right;\">\n",
       "      <th></th>\n",
       "      <th>employee_id</th>\n",
       "      <th>age</th>\n",
       "      <th>gender</th>\n",
       "      <th>marital_status</th>\n",
       "      <th>department</th>\n",
       "      <th>job_role</th>\n",
       "      <th>job_level</th>\n",
       "      <th>monthly_income</th>\n",
       "      <th>hourly_rate</th>\n",
       "      <th>years_at_company</th>\n",
       "      <th>...</th>\n",
       "      <th>overtime</th>\n",
       "      <th>project_count</th>\n",
       "      <th>average_hours_worked_per_week</th>\n",
       "      <th>absenteeism</th>\n",
       "      <th>work_environment_satisfaction</th>\n",
       "      <th>relationship_with_manager</th>\n",
       "      <th>job_involvement</th>\n",
       "      <th>distance_from_home</th>\n",
       "      <th>number_of_companies_worked</th>\n",
       "      <th>attrition</th>\n",
       "    </tr>\n",
       "  </thead>\n",
       "  <tbody>\n",
       "    <tr>\n",
       "      <th>0</th>\n",
       "      <td>1</td>\n",
       "      <td>58</td>\n",
       "      <td>1</td>\n",
       "      <td>2</td>\n",
       "      <td>0</td>\n",
       "      <td>3</td>\n",
       "      <td>5</td>\n",
       "      <td>7332</td>\n",
       "      <td>81</td>\n",
       "      <td>24</td>\n",
       "      <td>...</td>\n",
       "      <td>0</td>\n",
       "      <td>9</td>\n",
       "      <td>48</td>\n",
       "      <td>16</td>\n",
       "      <td>4</td>\n",
       "      <td>1</td>\n",
       "      <td>1</td>\n",
       "      <td>49</td>\n",
       "      <td>3</td>\n",
       "      <td>0</td>\n",
       "    </tr>\n",
       "    <tr>\n",
       "      <th>1</th>\n",
       "      <td>2</td>\n",
       "      <td>48</td>\n",
       "      <td>0</td>\n",
       "      <td>0</td>\n",
       "      <td>1</td>\n",
       "      <td>1</td>\n",
       "      <td>4</td>\n",
       "      <td>6069</td>\n",
       "      <td>55</td>\n",
       "      <td>18</td>\n",
       "      <td>...</td>\n",
       "      <td>1</td>\n",
       "      <td>9</td>\n",
       "      <td>57</td>\n",
       "      <td>10</td>\n",
       "      <td>4</td>\n",
       "      <td>1</td>\n",
       "      <td>1</td>\n",
       "      <td>25</td>\n",
       "      <td>1</td>\n",
       "      <td>0</td>\n",
       "    </tr>\n",
       "    <tr>\n",
       "      <th>2</th>\n",
       "      <td>3</td>\n",
       "      <td>34</td>\n",
       "      <td>0</td>\n",
       "      <td>1</td>\n",
       "      <td>3</td>\n",
       "      <td>3</td>\n",
       "      <td>4</td>\n",
       "      <td>11485</td>\n",
       "      <td>65</td>\n",
       "      <td>6</td>\n",
       "      <td>...</td>\n",
       "      <td>1</td>\n",
       "      <td>3</td>\n",
       "      <td>55</td>\n",
       "      <td>1</td>\n",
       "      <td>1</td>\n",
       "      <td>4</td>\n",
       "      <td>3</td>\n",
       "      <td>21</td>\n",
       "      <td>1</td>\n",
       "      <td>1</td>\n",
       "    </tr>\n",
       "    <tr>\n",
       "      <th>3</th>\n",
       "      <td>4</td>\n",
       "      <td>27</td>\n",
       "      <td>0</td>\n",
       "      <td>0</td>\n",
       "      <td>1</td>\n",
       "      <td>3</td>\n",
       "      <td>4</td>\n",
       "      <td>18707</td>\n",
       "      <td>28</td>\n",
       "      <td>12</td>\n",
       "      <td>...</td>\n",
       "      <td>0</td>\n",
       "      <td>9</td>\n",
       "      <td>53</td>\n",
       "      <td>2</td>\n",
       "      <td>3</td>\n",
       "      <td>4</td>\n",
       "      <td>1</td>\n",
       "      <td>46</td>\n",
       "      <td>2</td>\n",
       "      <td>0</td>\n",
       "    </tr>\n",
       "    <tr>\n",
       "      <th>4</th>\n",
       "      <td>5</td>\n",
       "      <td>40</td>\n",
       "      <td>1</td>\n",
       "      <td>1</td>\n",
       "      <td>1</td>\n",
       "      <td>0</td>\n",
       "      <td>1</td>\n",
       "      <td>16398</td>\n",
       "      <td>92</td>\n",
       "      <td>3</td>\n",
       "      <td>...</td>\n",
       "      <td>0</td>\n",
       "      <td>1</td>\n",
       "      <td>54</td>\n",
       "      <td>11</td>\n",
       "      <td>1</td>\n",
       "      <td>1</td>\n",
       "      <td>1</td>\n",
       "      <td>43</td>\n",
       "      <td>4</td>\n",
       "      <td>0</td>\n",
       "    </tr>\n",
       "  </tbody>\n",
       "</table>\n",
       "<p>5 rows × 26 columns</p>\n",
       "</div>"
      ],
      "text/plain": [
       "   employee_id  age  gender  marital_status  department  job_role  job_level  \\\n",
       "0            1   58       1               2           0         3          5   \n",
       "1            2   48       0               0           1         1          4   \n",
       "2            3   34       0               1           3         3          4   \n",
       "3            4   27       0               0           1         3          4   \n",
       "4            5   40       1               1           1         0          1   \n",
       "\n",
       "   monthly_income  hourly_rate  years_at_company  ...  overtime  \\\n",
       "0            7332           81                24  ...         0   \n",
       "1            6069           55                18  ...         1   \n",
       "2           11485           65                 6  ...         1   \n",
       "3           18707           28                12  ...         0   \n",
       "4           16398           92                 3  ...         0   \n",
       "\n",
       "   project_count  average_hours_worked_per_week  absenteeism  \\\n",
       "0              9                             48           16   \n",
       "1              9                             57           10   \n",
       "2              3                             55            1   \n",
       "3              9                             53            2   \n",
       "4              1                             54           11   \n",
       "\n",
       "   work_environment_satisfaction  relationship_with_manager  job_involvement  \\\n",
       "0                              4                          1                1   \n",
       "1                              4                          1                1   \n",
       "2                              1                          4                3   \n",
       "3                              3                          4                1   \n",
       "4                              1                          1                1   \n",
       "\n",
       "   distance_from_home  number_of_companies_worked  attrition  \n",
       "0                  49                           3          0  \n",
       "1                  25                           1          0  \n",
       "2                  21                           1          1  \n",
       "3                  46                           2          0  \n",
       "4                  43                           4          0  \n",
       "\n",
       "[5 rows x 26 columns]"
      ]
     },
     "execution_count": 2,
     "metadata": {},
     "output_type": "execute_result"
    }
   ],
   "source": [
    "# Step 2: Load cleaned dataset\n",
    "df = pd.read_csv(\"/Users/sangsthitapanda/Desktop/L&T PROJECT/archive/employee_attrition_dataset_cleaned.csv\")\n",
    "df.head()"
   ]
  },
  {
   "cell_type": "code",
   "execution_count": 3,
   "id": "1023b942",
   "metadata": {},
   "outputs": [],
   "source": [
    "# Step 3: Create sentiment score\n",
    "# Using satisfaction-related features\n",
    "df['sentiment_score'] = (\n",
    "    df['job_satisfaction'] +\n",
    "    df['work_life_balance'] +\n",
    "    df['work_environment_satisfaction'] +\n",
    "    df['relationship_with_manager']\n",
    ") / 4\n"
   ]
  },
  {
   "cell_type": "code",
   "execution_count": 4,
   "id": "e9767c2c",
   "metadata": {},
   "outputs": [],
   "source": [
    "\n",
    "# Step 4: Map to sentiment label\n",
    "def map_sentiment(score):\n",
    "    if score >= 3:\n",
    "        return \"Positive\"\n",
    "    elif score == 2:\n",
    "        return \"Neutral\"\n",
    "    else:\n",
    "        return \"Negative\"\n",
    "\n",
    "df['sentiment_label'] = df['sentiment_score'].apply(map_sentiment)"
   ]
  },
  {
   "cell_type": "code",
   "execution_count": 5,
   "id": "3e35d045",
   "metadata": {},
   "outputs": [],
   "source": [
    "# Step 5: Generate synthetic feedback text\n",
    "def generate_text(label):\n",
    "    if label == \"Positive\":\n",
    "        return \"I am happy with my job and work-life balance.\"\n",
    "    elif label == \"Neutral\":\n",
    "        return \"My job is okay, not too good or bad.\"\n",
    "    else:\n",
    "        return \"I am dissatisfied with my job and work-life balance.\"\n",
    "\n",
    "df['feedback_text'] = df['sentiment_label'].apply(generate_text)"
   ]
  },
  {
   "cell_type": "code",
   "execution_count": 6,
   "id": "472fcc27",
   "metadata": {},
   "outputs": [
    {
     "name": "stdout",
     "output_type": "stream",
     "text": [
      "✅ Sentiment features added & dataset saved.\n"
     ]
    }
   ],
   "source": [
    "# Step 6: Save updated dataset\n",
    "df.to_csv(\"/Users/sangsthitapanda/Desktop/L&T PROJECT/archive/employee_attrition_with_sentiment.csv\", index=False)\n",
    "print(\"✅ Sentiment features added & dataset saved.\")"
   ]
  },
  {
   "cell_type": "code",
   "execution_count": 7,
   "id": "49ede2fa",
   "metadata": {},
   "outputs": [
    {
     "data": {
      "image/png": "[encoded data removed]",
      "text/plain": [
       "<Figure size 640x480 with 1 Axes>"
      ]
     },
     "metadata": {},
     "output_type": "display_data"
    }
   ],
   "source": [
    "# Step 7: Visualize sentiment distribution\n",
    "sns.countplot(x=\"sentiment_label\", data=df, order=[\"Positive\",\"Neutral\",\"Negative\"])\n",
    "plt.title(\"Sentiment Distribution\")\n",
    "plt.show()"
   ]
  },
  {
   "cell_type": "code",
   "execution_count": 8,
   "id": "1452d307",
   "metadata": {},
   "outputs": [
    {
     "data": {
      "image/png": "[encoded data removed]",
      "text/plain": [
       "<Figure size 640x480 with 1 Axes>"
      ]
     },
     "metadata": {},
     "output_type": "display_data"
    }
   ],
   "source": [
    "# Step 8: Attrition vs Sentiment\n",
    "sns.countplot(x=\"sentiment_label\", hue=\"attrition\", data=df, order=[\"Positive\",\"Neutral\",\"Negative\"])\n",
    "plt.title(\"Attrition by Sentiment\")\n",
    "plt.show()"
   ]
  },
  {
   "cell_type": "code",
   "execution_count": 9,
   "id": "18955b03",
   "metadata": {},
   "outputs": [
    {
     "data": {
      "image/png": "[encoded data removed]",
      "text/plain": [
       "<Figure size 640x480 with 1 Axes>"
      ]
     },
     "metadata": {},
     "output_type": "display_data"
    }
   ],
   "source": [
    "# Step 9: Sentiment Score Distribution by Attrition\n",
    "sns.boxplot(x=\"attrition\", y=\"sentiment_score\", data=df)\n",
    "plt.title(\"Sentiment Score vs Attrition\")\n",
    "plt.show()\n"
   ]
  },
  {
   "cell_type": "code",
   "execution_count": 10,
   "id": "4dbe43f7",
   "metadata": {},
   "outputs": [
    {
     "name": "stdout",
     "output_type": "stream",
     "text": [
      "Attrition rate by sentiment (%):\n",
      "sentiment_label\n",
      "Negative    19.934877\n",
      "Neutral     19.558676\n",
      "Positive    20.143885\n",
      "Name: attrition, dtype: float64\n"
     ]
    }
   ],
   "source": [
    "\n",
    "# Step 10: Quick insight\n",
    "attrition_by_sentiment = df.groupby('sentiment_label')['attrition'].mean() * 100\n",
    "print(\"Attrition rate by sentiment (%):\")\n",
    "print(attrition_by_sentiment)"
   ]
  }
 ],
 "metadata": {
  "kernelspec": {
   "display_name": "base",
   "language": "python",
   "name": "python3"
  },
  "language_info": {
   "codemirror_mode": {
    "name": "ipython",
    "version": 3
   },
   "file_extension": ".py",
   "mimetype": "text/x-python",
   "name": "python",
   "nbconvert_exporter": "python",
   "pygments_lexer": "ipython3",
   "version": "3.9.13"
  }
 },
 "nbformat": 4,
 "nbformat_minor": 5
}
