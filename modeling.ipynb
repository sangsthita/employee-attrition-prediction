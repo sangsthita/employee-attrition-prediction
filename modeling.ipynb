{
 "cells": [
  {
   "cell_type": "markdown",
   "id": "0932cfb0",
   "metadata": {},
   "source": [
    "# =========================\n",
    "# Notebook 4: Feature Engineering + Modeling\n",
    "# ========================="
   ]
  },
  {
   "cell_type": "code",
   "execution_count": 29,
   "id": "911a1273",
   "metadata": {},
   "outputs": [],
   "source": [
    "\n",
    "# Step 1: Import libraries\n",
    "import pandas as pd\n",
    "import numpy as np\n",
    "from sklearn.model_selection import train_test_split\n",
    "from sklearn.preprocessing import StandardScaler\n",
    "from sklearn.linear_model import LogisticRegression\n",
    "from sklearn.ensemble import RandomForestClassifier, VotingClassifier\n",
    "from xgboost import XGBClassifier\n",
    "from sklearn.metrics import classification_report, confusion_matrix, roc_auc_score, accuracy_score\n",
    "import matplotlib.pyplot as plt\n",
    "import seaborn as sns\n",
    "import joblib\n",
    "from sklearn.compose import ColumnTransformer\n",
    "from sklearn.preprocessing import StandardScaler, OneHotEncoder\n",
    "from sklearn.pipeline import Pipeline\n"
   ]
  },
  {
   "cell_type": "code",
   "execution_count": 30,
   "id": "5107fcba",
   "metadata": {},
   "outputs": [
    {
     "name": "stdout",
     "output_type": "stream",
     "text": [
      "Shape: (1000, 29)\n"
     ]
    },
    {
     "data": {
      "text/html": [
       "<div>\n",
       "<style scoped>\n",
       "    .dataframe tbody tr th:only-of-type {\n",
       "        vertical-align: middle;\n",
       "    }\n",
       "\n",
       "    .dataframe tbody tr th {\n",
       "        vertical-align: top;\n",
       "    }\n",
       "\n",
       "    .dataframe thead th {\n",
       "        text-align: right;\n",
       "    }\n",
       "</style>\n",
       "<table border=\"1\" class=\"dataframe\">\n",
       "  <thead>\n",
       "    <tr style=\"text-align: right;\">\n",
       "      <th></th>\n",
       "      <th>employee_id</th>\n",
       "      <th>age</th>\n",
       "      <th>gender</th>\n",
       "      <th>marital_status</th>\n",
       "      <th>department</th>\n",
       "      <th>job_role</th>\n",
       "      <th>job_level</th>\n",
       "      <th>monthly_income</th>\n",
       "      <th>hourly_rate</th>\n",
       "      <th>years_at_company</th>\n",
       "      <th>...</th>\n",
       "      <th>absenteeism</th>\n",
       "      <th>work_environment_satisfaction</th>\n",
       "      <th>relationship_with_manager</th>\n",
       "      <th>job_involvement</th>\n",
       "      <th>distance_from_home</th>\n",
       "      <th>number_of_companies_worked</th>\n",
       "      <th>attrition</th>\n",
       "      <th>sentiment_score</th>\n",
       "      <th>sentiment_label</th>\n",
       "      <th>feedback_text</th>\n",
       "    </tr>\n",
       "  </thead>\n",
       "  <tbody>\n",
       "    <tr>\n",
       "      <th>0</th>\n",
       "      <td>1</td>\n",
       "      <td>58</td>\n",
       "      <td>0</td>\n",
       "      <td>1</td>\n",
       "      <td>2</td>\n",
       "      <td>3</td>\n",
       "      <td>1</td>\n",
       "      <td>15488</td>\n",
       "      <td>28</td>\n",
       "      <td>15</td>\n",
       "      <td>...</td>\n",
       "      <td>17</td>\n",
       "      <td>4</td>\n",
       "      <td>4</td>\n",
       "      <td>4</td>\n",
       "      <td>20</td>\n",
       "      <td>3</td>\n",
       "      <td>0</td>\n",
       "      <td>3.00</td>\n",
       "      <td>Positive</td>\n",
       "      <td>I am happy with my job and work-life balance.</td>\n",
       "    </tr>\n",
       "    <tr>\n",
       "      <th>1</th>\n",
       "      <td>2</td>\n",
       "      <td>48</td>\n",
       "      <td>0</td>\n",
       "      <td>1</td>\n",
       "      <td>4</td>\n",
       "      <td>1</td>\n",
       "      <td>5</td>\n",
       "      <td>13079</td>\n",
       "      <td>28</td>\n",
       "      <td>6</td>\n",
       "      <td>...</td>\n",
       "      <td>1</td>\n",
       "      <td>4</td>\n",
       "      <td>1</td>\n",
       "      <td>2</td>\n",
       "      <td>25</td>\n",
       "      <td>2</td>\n",
       "      <td>0</td>\n",
       "      <td>2.00</td>\n",
       "      <td>Neutral</td>\n",
       "      <td>My job is okay, not too good or bad.</td>\n",
       "    </tr>\n",
       "    <tr>\n",
       "      <th>2</th>\n",
       "      <td>3</td>\n",
       "      <td>34</td>\n",
       "      <td>1</td>\n",
       "      <td>1</td>\n",
       "      <td>3</td>\n",
       "      <td>1</td>\n",
       "      <td>1</td>\n",
       "      <td>13744</td>\n",
       "      <td>24</td>\n",
       "      <td>24</td>\n",
       "      <td>...</td>\n",
       "      <td>2</td>\n",
       "      <td>3</td>\n",
       "      <td>4</td>\n",
       "      <td>4</td>\n",
       "      <td>45</td>\n",
       "      <td>3</td>\n",
       "      <td>0</td>\n",
       "      <td>3.00</td>\n",
       "      <td>Positive</td>\n",
       "      <td>I am happy with my job and work-life balance.</td>\n",
       "    </tr>\n",
       "    <tr>\n",
       "      <th>3</th>\n",
       "      <td>4</td>\n",
       "      <td>27</td>\n",
       "      <td>0</td>\n",
       "      <td>0</td>\n",
       "      <td>3</td>\n",
       "      <td>3</td>\n",
       "      <td>1</td>\n",
       "      <td>6809</td>\n",
       "      <td>26</td>\n",
       "      <td>10</td>\n",
       "      <td>...</td>\n",
       "      <td>18</td>\n",
       "      <td>2</td>\n",
       "      <td>3</td>\n",
       "      <td>1</td>\n",
       "      <td>35</td>\n",
       "      <td>3</td>\n",
       "      <td>0</td>\n",
       "      <td>3.25</td>\n",
       "      <td>Positive</td>\n",
       "      <td>I am happy with my job and work-life balance.</td>\n",
       "    </tr>\n",
       "    <tr>\n",
       "      <th>4</th>\n",
       "      <td>5</td>\n",
       "      <td>40</td>\n",
       "      <td>1</td>\n",
       "      <td>0</td>\n",
       "      <td>3</td>\n",
       "      <td>2</td>\n",
       "      <td>1</td>\n",
       "      <td>10206</td>\n",
       "      <td>52</td>\n",
       "      <td>29</td>\n",
       "      <td>...</td>\n",
       "      <td>0</td>\n",
       "      <td>4</td>\n",
       "      <td>1</td>\n",
       "      <td>3</td>\n",
       "      <td>44</td>\n",
       "      <td>3</td>\n",
       "      <td>0</td>\n",
       "      <td>3.00</td>\n",
       "      <td>Positive</td>\n",
       "      <td>I am happy with my job and work-life balance.</td>\n",
       "    </tr>\n",
       "  </tbody>\n",
       "</table>\n",
       "<p>5 rows × 29 columns</p>\n",
       "</div>"
      ],
      "text/plain": [
       "   employee_id  age  gender  marital_status  department  job_role  job_level  \\\n",
       "0            1   58       0               1           2         3          1   \n",
       "1            2   48       0               1           4         1          5   \n",
       "2            3   34       1               1           3         1          1   \n",
       "3            4   27       0               0           3         3          1   \n",
       "4            5   40       1               0           3         2          1   \n",
       "\n",
       "   monthly_income  hourly_rate  years_at_company  ...  absenteeism  \\\n",
       "0           15488           28                15  ...           17   \n",
       "1           13079           28                 6  ...            1   \n",
       "2           13744           24                24  ...            2   \n",
       "3            6809           26                10  ...           18   \n",
       "4           10206           52                29  ...            0   \n",
       "\n",
       "   work_environment_satisfaction  relationship_with_manager  job_involvement  \\\n",
       "0                              4                          4                4   \n",
       "1                              4                          1                2   \n",
       "2                              3                          4                4   \n",
       "3                              2                          3                1   \n",
       "4                              4                          1                3   \n",
       "\n",
       "   distance_from_home  number_of_companies_worked  attrition  sentiment_score  \\\n",
       "0                  20                           3          0             3.00   \n",
       "1                  25                           2          0             2.00   \n",
       "2                  45                           3          0             3.00   \n",
       "3                  35                           3          0             3.25   \n",
       "4                  44                           3          0             3.00   \n",
       "\n",
       "   sentiment_label                                  feedback_text  \n",
       "0         Positive  I am happy with my job and work-life balance.  \n",
       "1          Neutral           My job is okay, not too good or bad.  \n",
       "2         Positive  I am happy with my job and work-life balance.  \n",
       "3         Positive  I am happy with my job and work-life balance.  \n",
       "4         Positive  I am happy with my job and work-life balance.  \n",
       "\n",
       "[5 rows x 29 columns]"
      ]
     },
     "execution_count": 30,
     "metadata": {},
     "output_type": "execute_result"
    }
   ],
   "source": [
    "# Step 2: Load dataset with sentiment\n",
    "df = pd.read_csv(\"/Users/sangsthitapanda/Desktop/L&T PROJECT/archive/employee_attrition_with_sentiment.csv\")\n",
    "print(\"Shape:\", df.shape)\n",
    "df.head()"
   ]
  },
  {
   "cell_type": "code",
   "execution_count": 31,
   "id": "c6e83e69",
   "metadata": {},
   "outputs": [],
   "source": [
    "# Step 3: Drop non-useful columns\n",
    "df = df.drop(columns=[\"employee_id\", \"feedback_text\"], errors=\"ignore\")"
   ]
  },
  {
   "cell_type": "code",
   "execution_count": 32,
   "id": "365240b5",
   "metadata": {},
   "outputs": [],
   "source": [
    "# Step 4: Define features and target\n",
    "X = df.drop(\"attrition\", axis=1)\n",
    "y = df[\"attrition\"]"
   ]
  },
  {
   "cell_type": "code",
   "execution_count": 33,
   "id": "c2683bbf",
   "metadata": {},
   "outputs": [
    {
     "name": "stdout",
     "output_type": "stream",
     "text": [
      "Train size: (800, 26) Test size: (200, 26)\n"
     ]
    }
   ],
   "source": [
    "# Step 5: Train-test split\n",
    "X_train, X_test, y_train, y_test = train_test_split(\n",
    "    X, y, test_size=0.2, random_state=42, stratify=y\n",
    ")\n",
    "\n",
    "print(\"Train size:\", X_train.shape, \"Test size:\", X_test.shape)"
   ]
  },
  {
   "cell_type": "code",
   "execution_count": 34,
   "id": "cf3304e6",
   "metadata": {},
   "outputs": [
    {
     "name": "stdout",
     "output_type": "stream",
     "text": [
      "Categorical columns: ['sentiment_label']\n",
      "Numeric columns: ['age', 'gender', 'marital_status', 'department', 'job_role', 'job_level', 'monthly_income', 'hourly_rate', 'years_at_company', 'years_in_current_role', 'years_since_last_promotion', 'work_life_balance', 'job_satisfaction', 'performance_rating', 'training_hours_last_year', 'overtime', 'project_count', 'average_hours_worked_per_week', 'absenteeism', 'work_environment_satisfaction', 'relationship_with_manager', 'job_involvement', 'distance_from_home', 'number_of_companies_worked', 'sentiment_score']\n"
     ]
    }
   ],
   "source": [
    "# Identify categorical and numeric columns\n",
    "categorical_cols = X_train.select_dtypes(include=['object']).columns\n",
    "numeric_cols = X_train.select_dtypes(include=['int64', 'float64']).columns\n",
    "\n",
    "print(\"Categorical columns:\", list(categorical_cols))\n",
    "print(\"Numeric columns:\", list(numeric_cols))"
   ]
  },
  {
   "cell_type": "code",
   "execution_count": 35,
   "id": "4558d9e2",
   "metadata": {},
   "outputs": [],
   "source": [
    "# Define preprocessing pipeline:\n",
    "# - StandardScaler for numeric features\n",
    "# - OneHotEncoder for categorical features\n",
    "preprocessor = ColumnTransformer(\n",
    "    transformers=[\n",
    "        ('num', StandardScaler(), numeric_cols),\n",
    "        ('cat', OneHotEncoder(handle_unknown='ignore'), categorical_cols)\n",
    "    ]\n",
    ")\n"
   ]
  },
  {
   "cell_type": "code",
   "execution_count": 36,
   "id": "bda7f910",
   "metadata": {},
   "outputs": [
    {
     "name": "stdout",
     "output_type": "stream",
     "text": [
      "✅ Preprocessing complete!\n",
      "X_train shape after preprocessing: (800, 28)\n",
      "X_test shape after preprocessing: (200, 28)\n"
     ]
    }
   ],
   "source": [
    "# Fit on training data and transform both train & test\n",
    "X_train_processed = preprocessor.fit_transform(X_train)\n",
    "X_test_processed = preprocessor.transform(X_test)\n",
    "\n",
    "print(\"✅ Preprocessing complete!\")\n",
    "print(\"X_train shape after preprocessing:\", X_train_processed.shape)\n",
    "print(\"X_test shape after preprocessing:\", X_test_processed.shape)\n"
   ]
  },
  {
   "cell_type": "code",
   "execution_count": 37,
   "id": "8748dd9a",
   "metadata": {},
   "outputs": [
    {
     "name": "stdout",
     "output_type": "stream",
     "text": [
      "Shapes:\n",
      "X_train: (800, 28)\n",
      "X_test: (200, 28)\n",
      "y_train: (800,)\n",
      "y_test: (200,)\n"
     ]
    }
   ],
   "source": [
    "\n",
    "print(\"Shapes:\")\n",
    "print(\"X_train:\", X_train_processed.shape)\n",
    "print(\"X_test:\", X_test_processed.shape)\n",
    "print(\"y_train:\", y_train.shape)\n",
    "print(\"y_test:\", y_test.shape)"
   ]
  },
  {
   "cell_type": "code",
   "execution_count": 38,
   "id": "26627ce9",
   "metadata": {},
   "outputs": [],
   "source": [
    "#Define Models\n",
    "log_reg = LogisticRegression(max_iter=1000, class_weight='balanced', random_state=42)\n",
    "rf_clf = RandomForestClassifier(n_estimators=200, random_state=42, class_weight='balanced')\n",
    "xgb_clf = XGBClassifier(\n",
    "    n_estimators=200,\n",
    "    learning_rate=0.1,\n",
    "    max_depth=5,\n",
    "    subsample=0.8,\n",
    "    colsample_bytree=0.8,\n",
    "    random_state=42,\n",
    "    use_label_encoder=False,\n",
    "    eval_metric=\"logloss\"\n",
    ")\n"
   ]
  },
  {
   "cell_type": "code",
   "execution_count": 39,
   "id": "44628e2f",
   "metadata": {},
   "outputs": [
    {
     "name": "stdout",
     "output_type": "stream",
     "text": [
      "\n",
      "📊 Logistic Regression Results:\n",
      "Accuracy: 0.49\n",
      "              precision    recall  f1-score   support\n",
      "\n",
      "           0       0.78      0.52      0.62       162\n",
      "           1       0.15      0.37      0.22        38\n",
      "\n",
      "    accuracy                           0.49       200\n",
      "   macro avg       0.46      0.44      0.42       200\n",
      "weighted avg       0.66      0.49      0.54       200\n",
      "\n",
      "\n",
      "📊 Random Forest Results:\n",
      "Accuracy: 0.81\n",
      "              precision    recall  f1-score   support\n",
      "\n",
      "           0       0.81      1.00      0.90       162\n",
      "           1       0.00      0.00      0.00        38\n",
      "\n",
      "    accuracy                           0.81       200\n",
      "   macro avg       0.41      0.50      0.45       200\n",
      "weighted avg       0.66      0.81      0.72       200\n",
      "\n",
      "\n",
      "📊 XGBoost Results:\n",
      "Accuracy: 0.78\n",
      "              precision    recall  f1-score   support\n",
      "\n",
      "           0       0.80      0.96      0.88       162\n",
      "           1       0.00      0.00      0.00        38\n",
      "\n",
      "    accuracy                           0.78       200\n",
      "   macro avg       0.40      0.48      0.44       200\n",
      "weighted avg       0.65      0.78      0.71       200\n",
      "\n"
     ]
    },
    {
     "name": "stderr",
     "output_type": "stream",
     "text": [
      "/Users/sangsthitapanda/opt/anaconda3/lib/python3.9/site-packages/sklearn/metrics/_classification.py:1318: UndefinedMetricWarning: Precision and F-score are ill-defined and being set to 0.0 in labels with no predicted samples. Use `zero_division` parameter to control this behavior.\n",
      "  _warn_prf(average, modifier, msg_start, len(result))\n",
      "/Users/sangsthitapanda/opt/anaconda3/lib/python3.9/site-packages/sklearn/metrics/_classification.py:1318: UndefinedMetricWarning: Precision and F-score are ill-defined and being set to 0.0 in labels with no predicted samples. Use `zero_division` parameter to control this behavior.\n",
      "  _warn_prf(average, modifier, msg_start, len(result))\n",
      "/Users/sangsthitapanda/opt/anaconda3/lib/python3.9/site-packages/sklearn/metrics/_classification.py:1318: UndefinedMetricWarning: Precision and F-score are ill-defined and being set to 0.0 in labels with no predicted samples. Use `zero_division` parameter to control this behavior.\n",
      "  _warn_prf(average, modifier, msg_start, len(result))\n",
      "/Users/sangsthitapanda/opt/anaconda3/lib/python3.9/site-packages/xgboost/core.py:158: UserWarning: [23:43:02] WARNING: /Users/runner/work/xgboost/xgboost/src/learner.cc:740: \n",
      "Parameters: { \"use_label_encoder\" } are not used.\n",
      "\n",
      "  warnings.warn(smsg, UserWarning)\n"
     ]
    }
   ],
   "source": [
    "\n",
    "#Train Models \n",
    "models = {\n",
    "    \"Logistic Regression\": log_reg,\n",
    "    \"Random Forest\": rf_clf,\n",
    "    \"XGBoost\": xgb_clf\n",
    "}\n",
    "\n",
    "for name, model in models.items():\n",
    "    model.fit(X_train_processed, y_train)\n",
    "    y_pred = model.predict(X_test_processed)\n",
    "    print(f\"\\n📊 {name} Results:\")\n",
    "    print(\"Accuracy:\", accuracy_score(y_test, y_pred))\n",
    "    print(classification_report(y_test, y_pred))"
   ]
  },
  {
   "cell_type": "code",
   "execution_count": 40,
   "id": "f976c7f7",
   "metadata": {},
   "outputs": [
    {
     "name": "stdout",
     "output_type": "stream",
     "text": [
      "\n",
      "📊 Ensemble (Voting Classifier) Results:\n",
      "Accuracy: 0.79\n",
      "              precision    recall  f1-score   support\n",
      "\n",
      "           0       0.81      0.98      0.88       162\n",
      "           1       0.00      0.00      0.00        38\n",
      "\n",
      "    accuracy                           0.79       200\n",
      "   macro avg       0.40      0.49      0.44       200\n",
      "weighted avg       0.65      0.79      0.71       200\n",
      "\n"
     ]
    },
    {
     "name": "stderr",
     "output_type": "stream",
     "text": [
      "/Users/sangsthitapanda/opt/anaconda3/lib/python3.9/site-packages/xgboost/core.py:158: UserWarning: [23:43:03] WARNING: /Users/runner/work/xgboost/xgboost/src/learner.cc:740: \n",
      "Parameters: { \"use_label_encoder\" } are not used.\n",
      "\n",
      "  warnings.warn(smsg, UserWarning)\n"
     ]
    },
    {
     "data": {
      "image/png": "[encoded data removed]",
      "text/plain": [
       "<Figure size 640x480 with 2 Axes>"
      ]
     },
     "metadata": {},
     "output_type": "display_data"
    }
   ],
   "source": [
    "#Ensemble (Voting Classifier)\n",
    "voting_clf = VotingClassifier(\n",
    "    estimators=[\n",
    "        (\"log_reg\", log_reg),\n",
    "        (\"rf\", rf_clf),\n",
    "        (\"xgb\", xgb_clf)\n",
    "    ],\n",
    "    voting=\"soft\"  # soft = probabilities, hard = majority voting\n",
    ")\n",
    "\n",
    "voting_clf.fit(X_train_processed, y_train)\n",
    "y_pred_voting = voting_clf.predict(X_test_processed)\n",
    "\n",
    "print(\"\\n📊 Ensemble (Voting Classifier) Results:\")\n",
    "print(\"Accuracy:\", accuracy_score(y_test, y_pred_voting))\n",
    "print(classification_report(y_test, y_pred_voting))\n",
    "\n",
    "cm = confusion_matrix(y_test, y_pred_voting)\n",
    "sns.heatmap(cm, annot=True, fmt=\"d\", cmap=\"Greens\")\n",
    "plt.title(\"Voting Classifier Confusion Matrix\")\n",
    "plt.xlabel(\"Predicted\")\n",
    "plt.ylabel(\"Actual\")\n",
    "plt.show()"
   ]
  },
  {
   "cell_type": "code",
   "execution_count": 41,
   "id": "76f7f3a1",
   "metadata": {},
   "outputs": [],
   "source": [
    "#Save the Best Model\n",
    "# Compare model accuracies\n",
    "results = {}\n",
    "\n",
    "for name, model in models.items():\n",
    "    y_pred = model.predict(X_test_processed)\n",
    "    results[name] = accuracy_score(y_test, y_pred)"
   ]
  },
  {
   "cell_type": "code",
   "execution_count": 44,
   "id": "550f797e",
   "metadata": {},
   "outputs": [
    {
     "name": "stdout",
     "output_type": "stream",
     "text": [
      "\n",
      "🏆 Best model: Random Forest with accuracy: 0.81\n"
     ]
    }
   ],
   "source": [
    "\n",
    "# Add ensemble result\n",
    "results[\"Voting Classifier\"] = accuracy_score(y_test, y_pred_voting)\n",
    "\n",
    "# Find best model\n",
    "best_model_name = max(results, key=results.get)\n",
    "print(\"\\n🏆 Best model:\", best_model_name, \"with accuracy:\", results[best_model_name])\n",
    "\n",
    "if best_model_name == \"Logistic Regression\":\n",
    "    best_model = log_reg\n",
    "elif best_model_name == \"Random Forest\":\n",
    "    best_model = rf_clf\n",
    "elif best_model_name == \"XGBoost\":\n",
    "    best_model = xgb_clf\n",
    "else:\n",
    "    best_model = voting_clf\n",
    "\n"
   ]
  },
  {
   "cell_type": "code",
   "execution_count": 45,
   "id": "f0168e3f",
   "metadata": {},
   "outputs": [
    {
     "data": {
      "text/plain": [
       "['models/attrition_pipeline.pkl']"
      ]
     },
     "execution_count": 45,
     "metadata": {},
     "output_type": "execute_result"
    }
   ],
   "source": [
    "# Example pipeline\n",
    "pipeline = Pipeline([\n",
    "    (\"scaler\", StandardScaler()),\n",
    "    (\"model\", RandomForestClassifier(random_state=42))\n",
    "])\n",
    "\n",
    "# Fit pipeline on training data\n",
    "pipeline.fit(X_train_processed, y_train)\n",
    "\n",
    "# Save the pipeline (no need to save scaler separately!)\n",
    "import joblib\n",
    "joblib.dump(pipeline, \"models/attrition_pipeline.pkl\")"
   ]
  },
  {
   "cell_type": "code",
   "execution_count": null,
   "id": "257c117f",
   "metadata": {},
   "outputs": [],
   "source": []
  }
 ],
 "metadata": {
  "kernelspec": {
   "display_name": "base",
   "language": "python",
   "name": "python3"
  },
  "language_info": {
   "codemirror_mode": {
    "name": "ipython",
    "version": 3
   },
   "file_extension": ".py",
   "mimetype": "text/x-python",
   "name": "python",
   "nbconvert_exporter": "python",
   "pygments_lexer": "ipython3",
   "version": "3.9.13"
  }
 },
 "nbformat": 4,
 "nbformat_minor": 5
}
